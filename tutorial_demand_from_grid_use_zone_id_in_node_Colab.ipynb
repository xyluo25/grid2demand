{
  "cells": [
    {
      "cell_type": "markdown",
      "metadata": {
        "id": "view-in-github",
        "colab_type": "text"
      },
      "source": [
        "<a href=\"https://colab.research.google.com/github/xyluo25/grid2demand/blob/main/tutorial_demand_from_grid_use_zone_id_in_node_Colab.ipynb\" target=\"_parent\"><img src=\"https://colab.research.google.com/assets/colab-badge.svg\" alt=\"Open In Colab\"/></a>"
      ]
    },
    {
      "cell_type": "code",
      "execution_count": null,
      "metadata": {
        "id": "OPADIfxqihVk"
      },
      "outputs": [],
      "source": [
        "!pip install pandas\n",
        "!pip install grid2demand\n",
        "\n",
        "!git clone https://github.com/xyluo25/grid2demand"
      ]
    },
    {
      "cell_type": "code",
      "execution_count": null,
      "metadata": {
        "id": "V1yrvdPHkREJ"
      },
      "outputs": [],
      "source": [
        "!ls"
      ]
    },
    {
      "cell_type": "code",
      "source": [
        "import grid2demand as gd"
      ],
      "metadata": {
        "id": "FgUJrIC1T0yT"
      },
      "execution_count": null,
      "outputs": []
    },
    {
      "cell_type": "code",
      "execution_count": null,
      "metadata": {
        "id": "Z_zwyukEiuIq"
      },
      "outputs": [],
      "source": [
        "import grid2demand as gd\n",
        "\n",
        "if __name__ == \"__main__\":\n",
        "\n",
        "    # Step 0: Specify input directory\n",
        "    input_dir = r\"grid2demand/datasets/demand_from_grid_use_zone_id_in_node/ASU/auto\"\n",
        "\n",
        "    # Initialize a GRID2DEMAND object\n",
        "    net = gd.GRID2DEMAND(input_dir=input_dir, use_zone_id=True, mode_type=\"auto\", verbose=False)\n",
        "\n",
        "    # Step 1: Load node and poi data from input directory\n",
        "    net.load_network()\n",
        "\n",
        "    # Step 2: Generate zone.csv from node boundary\n",
        "    net.net2grid(num_x_blocks=10, num_y_blocks=10)\n",
        "\n",
        "    # Step 3: Load zone from zone.csv file\n",
        "    net.taz2zone()\n",
        "\n",
        "    # Step 4: Mapping zones with nodes and poi\n",
        "    net.map_zone_node_poi()\n",
        "\n",
        "    # Step 5: Calculate zone-to-zone distance\n",
        "    net.calc_zone_od_distance()\n",
        "\n",
        "    # Step 6: Run gravity model to generate agent-based demand\n",
        "    net.run_gravity_model()\n",
        "\n",
        "    # Step 7: Output demand, agent, zone, zone_od_dist_table, zone_od_dist_matrix files\n",
        "    net.save_results_to_csv(node=True, poi=False, zone=True, agent=False, overwrite_file=False)"
      ]
    }
  ],
  "metadata": {
    "colab": {
      "private_outputs": true,
      "provenance": [],
      "include_colab_link": true
    },
    "kernelspec": {
      "display_name": "Python 3",
      "name": "python3"
    },
    "language_info": {
      "name": "python"
    }
  },
  "nbformat": 4,
  "nbformat_minor": 0
}